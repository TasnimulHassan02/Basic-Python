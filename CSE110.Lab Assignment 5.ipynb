{
 "cells": [
  {
   "cell_type": "code",
   "execution_count": null,
   "id": "634560b5",
   "metadata": {
    "id": "634560b5",
    "outputId": "77102da0-886f-40cb-c46e-1e940f37f7c0"
   },
   "outputs": [
    {
     "name": "stdout",
     "output_type": "stream",
     "text": [
      "400\n"
     ]
    }
   ],
   "source": [
    "# Task 1:\n",
    "\n",
    "a_tuple = (\"The Institute\", (\"Best Mystery & Thriller\", \"The Silent Patient\", 68821), 75717,\n",
    "[1, 2, 3, 400, 5, 6, 7], (\"Best Fiction\", \"The Testaments\", 98291))\n",
    "\n",
    "print(a_tuple[3][3])"
   ]
  },
  {
   "cell_type": "code",
   "execution_count": null,
   "id": "939d4e61",
   "metadata": {
    "id": "939d4e61",
    "outputId": "118ca8b7-3d6d-4603-c0f3-043b0e9125f7"
   },
   "outputs": [
    {
     "name": "stdout",
     "output_type": "stream",
     "text": [
      "()\n"
     ]
    }
   ],
   "source": [
    "# Task 2:\n",
    "\n",
    "old_tuple = (-10, 20, 30, 40)\n",
    "\n",
    "new_tuple = old_tuple[2:-2]\n",
    "\n",
    "print(new_tuple)"
   ]
  },
  {
   "cell_type": "code",
   "execution_count": null,
   "id": "64b99ff9",
   "metadata": {
    "id": "64b99ff9",
    "outputId": "a219cc56-631d-4569-c6df-37c2004f5b90"
   },
   "outputs": [
    {
     "name": "stdout",
     "output_type": "stream",
     "text": [
      "Size of the tuple is: 4\n",
      "('Best Mystery & Thriller', 'The Silent Patient', 68, 821)\n",
      "('Best Horror', 'The Institute', 75, 717)\n",
      "('Best History & Biography', 'The five', 31, 783)\n",
      "('Best Fiction', 'The Testaments', 98, 291)\n"
     ]
    }
   ],
   "source": [
    "# Task 3:\n",
    "\n",
    "book_info = (\n",
    "(\"Best Mystery & Thriller\",\"The Silent Patient\",68,821),\n",
    "(\"Best Horror\",\"The Institute\",75,717),\n",
    "(\"Best History & Biography\",\"The five\",31,783 ),\n",
    "(\"Best Fiction\",\"The Testaments\",98,291)\n",
    ")\n",
    "\n",
    "print(\"Size of the tuple is:\", len(book_info))\n",
    "\n",
    "for item in book_info:\n",
    "    print(item)"
   ]
  },
  {
   "cell_type": "code",
   "execution_count": 77,
   "id": "da6b8c2a",
   "metadata": {
    "id": "da6b8c2a",
    "outputId": "91729f2f-3b93-41d9-e8bb-114617ace1e6"
   },
   "outputs": [
    {
     "name": "stdout",
     "output_type": "stream",
     "text": [
      "The Silent Patient won the 'Best Mystery & Thriller' catagory with 68821 votes\n",
      "The Institute won the 'Best Horror' catagory with 75717 votes\n",
      "The five won the 'Best History & Biography' catagory with 31783 votes\n",
      "The Testaments won the 'Best Fiction' catagory with 98291 votes\n"
     ]
    }
   ],
   "source": [
    "# Task 4:\n",
    "\n",
    "book_info = (\n",
    "(\"Best Mystery & Thriller\",\"The Silent Patient\",68821),\n",
    "(\"Best Horror\",\"The Institute\",75717),\n",
    "(\"Best History & Biography\",\"The five\",31783 ),\n",
    "(\"Best Fiction\",\"The Testaments\",98291)\n",
    ")\n",
    "\n",
    "for item in book_info:\n",
    "    \n",
    "    catagory, book, vote = item\n",
    "    \n",
    "    print(book, \"won the \\'\" + catagory + \"\\' catagory with\", vote, \"votes\")\n"
   ]
  },
  {
   "cell_type": "code",
   "execution_count": null,
   "id": "8c99f858",
   "metadata": {
    "id": "8c99f858",
    "outputId": "781dd5f2-39fa-4647-ea3d-e343430c5f68"
   },
   "outputs": [
    {
     "name": "stdout",
     "output_type": "stream",
     "text": [
      "please enter a number; 8\n",
      "8 appears 4 times in the tuple\n"
     ]
    }
   ],
   "source": [
    "# Task 5:\n",
    "\n",
    "given_tuple = (10, 8, 5, 2, 10, 15, 10, 8, 5, 8, 8, 2)\n",
    "count = 0\n",
    "num = int(input(\"please enter a number; \"))\n",
    "\n",
    "for items in given_tuple:\n",
    "    \n",
    "    if (items == num):\n",
    "        count += 1\n",
    "\n",
    "print(num, \"appears\", count, \"times in the tuple\")"
   ]
  },
  {
   "cell_type": "code",
   "execution_count": 1,
   "id": "ecebe46e",
   "metadata": {
    "colab": {
     "base_uri": "https://localhost:8080/"
    },
    "executionInfo": {
     "elapsed": 6,
     "status": "ok",
     "timestamp": 1648744812436,
     "user": {
      "displayName": "TASNIMUL HASSAN",
      "userId": "04640931849514518525"
     },
     "user_tz": -360
    },
    "id": "ecebe46e",
    "outputId": "3bebee90-59ca-463e-c35b-68218f1073c7"
   },
   "outputs": [
    {
     "name": "stdout",
     "output_type": "stream",
     "text": [
      "('h', 'g', 'f', 'e', 'd', 'c', 'b', 'a')\n"
     ]
    }
   ],
   "source": [
    "# Task 6:\n",
    "\n",
    "given_tuple = ('a', 'b', 'c', 'd', 'e', 'f', 'g', 'h')\n",
    "\n",
    "old_list = list(given_tuple)\n",
    "\n",
    "new_list = []\n",
    "\n",
    "index = -1\n",
    "\n",
    "for iteration in range(len(old_list)):\n",
    "    \n",
    "    new_list.append(old_list[index])\n",
    "\n",
    "    index = index - 1\n",
    "\n",
    "print(tuple(new_list))"
   ]
  },
  {
   "cell_type": "code",
   "execution_count": null,
   "id": "acc6211e",
   "metadata": {
    "id": "acc6211e",
    "outputId": "7ca0b7a0-eaa8-4a0c-eee5-9096292bc085"
   },
   "outputs": [
    {
     "name": "stdout",
     "output_type": "stream",
     "text": [
      "{'Harry': 15, 'Draco': 8, 'Nevil': 19, 'Ginie': 18, 'Luna': 14}\n"
     ]
    }
   ],
   "source": [
    "# Task 7:\n",
    "\n",
    "given_dic_1 = {'Harry':15, 'Draco':8, 'Nevil':19}\n",
    "given_dic_2 = {'Ginie':18, 'Luna': 14}\n",
    "marks = {}\n",
    "\n",
    "for key,value in given_dic_1.items():\n",
    "    marks[key] = value\n",
    "    \n",
    "for key,value in given_dic_2.items():\n",
    "    marks[key] = value\n",
    "    \n",
    "print(marks)"
   ]
  },
  {
   "cell_type": "code",
   "execution_count": 78,
   "id": "5583df95",
   "metadata": {
    "id": "5583df95"
   },
   "outputs": [
    {
     "name": "stdout",
     "output_type": "stream",
     "text": [
      "How many items should be in the dictionary? 3\n",
      "Please enter the key: jon\n",
      "Please enter the value100\n",
      "Please enter the key: dan\n",
      "Please enter the value200\n",
      "Please enter the key: rob\n",
      "Please enter the value300\n",
      "Average is 200\n"
     ]
    }
   ],
   "source": [
    "# Task 8:\n",
    "\n",
    "input_dic = {}\n",
    "\n",
    "total = 0\n",
    "count = 0\n",
    "\n",
    "num = int(input(\"How many items should be in the dictionary? \"))\n",
    "\n",
    "for iteration in range(num):\n",
    "    \n",
    "    key = input(\"Please enter the key: \")\n",
    "    \n",
    "    value = int(input(\"Please enter the value\"))\n",
    "    \n",
    "    input_dic[key] = value\n",
    "    \n",
    "for value in input_dic.values():\n",
    "    \n",
    "    total += value\n",
    "    count += 1\n",
    "    \n",
    "average = int(total / count)\n",
    "\n",
    "print(\"Average is\", average)"
   ]
  },
  {
   "cell_type": "code",
   "execution_count": 2,
   "id": "44290587",
   "metadata": {},
   "outputs": [
    {
     "name": "stdout",
     "output_type": "stream",
     "text": [
      "Please enter a value: 190\n",
      "{'Alden Cantrell': 200, 'Pierre Cox': 190}\n"
     ]
    }
   ],
   "source": [
    "# Task 9:\n",
    "\n",
    "exam_marks = {'Cierra Vega': 175, 'Alden Cantrell': 200, 'Kierra Gentry': 165, 'Pierre Cox': 190}\n",
    "\n",
    "new_dic = {}\n",
    "\n",
    "user_input = int(input(\"Please enter a value: \"))\n",
    "\n",
    "for key,value in exam_marks.items():\n",
    "    \n",
    "    if (value >= user_input):\n",
    "        \n",
    "        new_dic[key] = value\n",
    "        \n",
    "print(new_dic)"
   ]
  },
  {
   "cell_type": "code",
   "execution_count": 5,
   "id": "af6b639b",
   "metadata": {},
   "outputs": [
    {
     "name": "stdout",
     "output_type": "stream",
     "text": [
      "The highest selling book genre is 'horror' and the number of books sold are 14\n"
     ]
    }
   ],
   "source": [
    "# Task 10:\n",
    "\n",
    "given_dic = {'sci fi': 5, 'mystery': 3, 'horror': 14, 'young_adult': 2, 'adventure':9}\n",
    "\n",
    "max_cat = None\n",
    "\n",
    "max_value = None\n",
    "\n",
    "for cur_key,cur_value in given_dic.items():\n",
    "    \n",
    "    if (max_cat == None):\n",
    "        \n",
    "        max_cat = cur_key\n",
    "        \n",
    "        max_value = cur_value\n",
    "        \n",
    "    else:\n",
    "        \n",
    "        if (cur_value > max_value ):\n",
    "            \n",
    "            max_cat = cur_key\n",
    "            \n",
    "            max_value = cur_value\n",
    "\n",
    "print(\"The highest selling book genre is \\'\" + max_cat + \"\\' and the number of books sold are\", max_value)"
   ]
  },
  {
   "cell_type": "code",
   "execution_count": 4,
   "id": "b4e9ade5",
   "metadata": {},
   "outputs": [
    {
     "name": "stdout",
     "output_type": "stream",
     "text": [
      "Please enter a string: Python programming is fun\n",
      "{'p': 2, 'y': 1, 't': 1, 'h': 1, 'o': 2, 'n': 3, 'r': 2, 'g': 2, 'a': 1, 'm': 2, 'i': 2, 's': 1, 'f': 1, 'u': 1}\n"
     ]
    }
   ],
   "source": [
    "# Task 11 :\n",
    "\n",
    "input_string = input(\"Please enter a string: \")\n",
    "\n",
    "user_input = \"\"\n",
    "\n",
    "for item in input_string:\n",
    "    \n",
    "    if (item != \" \"):\n",
    "        \n",
    "        user_input = user_input + item\n",
    "\n",
    "user_input = user_input.lower()\n",
    "\n",
    "new_dic = {}\n",
    "\n",
    "for char in user_input:\n",
    "    \n",
    "    key = char\n",
    "    \n",
    "    if key not in new_dic:\n",
    "        \n",
    "        new_dic[key] = 1\n",
    "    \n",
    "    else:\n",
    "        \n",
    "        new_dic[key] =   new_dic[key] + 1\n",
    "    \n",
    "print(new_dic)"
   ]
  },
  {
   "cell_type": "code",
   "execution_count": 3,
   "id": "9ea5e529",
   "metadata": {},
   "outputs": [
    {
     "name": "stdout",
     "output_type": "stream",
     "text": [
      "9\n"
     ]
    }
   ],
   "source": [
    "# Task 12 :\n",
    "\n",
    "dict_1 = {'A': [1, 2, 3], 'b': ['1', '2'], \"c\": [4, 5, 6, 7]}\n",
    "\n",
    "count = 0\n",
    "\n",
    "for value in dict_1.values():\n",
    "    \n",
    "    for item in value:\n",
    "        \n",
    "        count += 1\n",
    "        \n",
    "print(count)"
   ]
  },
  {
   "cell_type": "code",
   "execution_count": 13,
   "id": "60f59e86",
   "metadata": {},
   "outputs": [
    {
     "name": "stdout",
     "output_type": "stream",
     "text": [
      "{'a': [1, 3, 2], 'b': [2, 1], 'c': [1]}\n"
     ]
    }
   ],
   "source": [
    "# Task 13 :\n",
    "\n",
    "list_1 = [(\"a\", 1), (\"b\", 2), (\"a\", 3), (\"b\", 1), (\"a\", 2), (\"c\", 1)]\n",
    "\n",
    "ans_dic ={}\n",
    "\n",
    "for item in list_1:\n",
    "    \n",
    "    key, value = item\n",
    "    \n",
    "    if key not in ans_dic:\n",
    "        \n",
    "        ans_dic[key] = [value]\n",
    "        \n",
    "    else:\n",
    "        \n",
    "        ans_dic[key].append(value)\n",
    "        \n",
    "print(ans_dic)"
   ]
  },
  {
   "cell_type": "code",
   "execution_count": 17,
   "id": "45c26764",
   "metadata": {},
   "outputs": [
    {
     "name": "stdout",
     "output_type": "stream",
     "text": [
      "False\n",
      "False\n",
      "False\n",
      "False\n",
      "False\n",
      "True\n",
      "False\n",
      "False\n",
      "False\n",
      "True\n"
     ]
    }
   ],
   "source": [
    "# Task 14:\n",
    "\n",
    "var1 = var2 = var3 = var4 = var5 = var6 = False\n",
    "\n",
    "result1 = result2 = result3 = result4 = result5 = result6 = result7 = result8 = result9 = result10 = False\n",
    "\n",
    "var1 = 4 < 3 - 1\n",
    "\n",
    "var2 = var1 and False\n",
    "\n",
    "var3 = False\n",
    "\n",
    "var4 = True\n",
    "\n",
    "var5 = False\n",
    "\n",
    "var6 = var3 and True\n",
    "\n",
    "result1 = (var1 or var2) and (8 * 10 > 45)\n",
    "\n",
    "result2 = (var1 or var2) and (result1 and False)\n",
    "\n",
    "result3 = (var1 and result1) or result2\n",
    "\n",
    "result4 = (var1 or var2) or ((var3 and var1) and False)\n",
    "\n",
    "result5 = (var1 and var2) and (result3 or var1)\n",
    "\n",
    "result6 = ((var3 or var2) and not result5) or True\n",
    "\n",
    "result7 = (var4 and result1) and ((result1 and False) or True)\n",
    "\n",
    "result8 = ((var1 and result3) and (var5 or var6)) and True\n",
    "\n",
    "result9 = ((result2 and var2) or (result7 and var1)) and False\n",
    "\n",
    "result10 = not(var1 and True)\n",
    "\n",
    "print(result1)\n",
    "\n",
    "print(result2)\n",
    "\n",
    "print(result3)\n",
    "\n",
    "print(result4)\n",
    "\n",
    "print(result5)\n",
    "\n",
    "print(result6)\n",
    "\n",
    "print(result7)\n",
    "\n",
    "print(result8)\n",
    "\n",
    "print(result9)\n",
    "\n",
    "print(result10)"
   ]
  },
  {
   "cell_type": "code",
   "execution_count": 18,
   "id": "9b33baba",
   "metadata": {},
   "outputs": [
    {
     "name": "stdout",
     "output_type": "stream",
     "text": [
      "False\n",
      "False\n",
      "True\n",
      "False\n",
      "False\n",
      "True\n",
      "False\n",
      "False\n",
      "False\n",
      "True\n"
     ]
    }
   ],
   "source": [
    "# Task 15 :\n",
    "\n",
    "var1 = False\n",
    "\n",
    "var2 = False\n",
    "\n",
    "var3 = False\n",
    "\n",
    "var4 = False\n",
    "\n",
    "var5 = False\n",
    "\n",
    "var6 = False\n",
    "\n",
    "result1 = False\n",
    "\n",
    "result2 = False\n",
    "\n",
    "result3 = False\n",
    "\n",
    "result4 = False\n",
    "\n",
    "result5 = False\n",
    "\n",
    "result6 = False\n",
    "\n",
    "result7 = False\n",
    "\n",
    "result8 = False\n",
    "\n",
    "result9 = False\n",
    "\n",
    "result10 = False\n",
    "\n",
    "var1 = ((not True) or True) and False\n",
    "\n",
    "var2 = var1 and False\n",
    "\n",
    "var3 = True and not False\n",
    "\n",
    "var4 = False\n",
    "\n",
    "var5 = True\n",
    "\n",
    "var6 = var3 and False\n",
    "\n",
    "result1 = (var1 and var2) and (40 % 3) > 45 or (var5 and var6)\n",
    "\n",
    "result2 = (var1 or var2) or (result1 and False)\n",
    "\n",
    "result3 = (var1 and result1) or result2 or var5\n",
    "\n",
    "result4 = (var1 or var2) or ((var3 and var1) and False)\n",
    "\n",
    "result5 = (var1 and var2) and (result3 or var1)\n",
    "\n",
    "result6 = ((var3 or (not var2)) and (result5)) or True\n",
    "\n",
    "result7 = (var4 and result1) and ((result1 and False) or True)\n",
    "\n",
    "result8 = ((var1 and result3) and ((not var5) or var6)) and True\n",
    "\n",
    "result9 = ((result2 and var2) or ((not result7) and var1)) and not False\n",
    "\n",
    "result10 = not(var1 and True)\n",
    "\n",
    "print(result1)\n",
    "\n",
    "print(result2)\n",
    "\n",
    "print(result3)\n",
    "\n",
    "print(result4)\n",
    "\n",
    "print(result5)\n",
    "\n",
    "print(result6)\n",
    "\n",
    "print(result7)\n",
    "\n",
    "print(result8)\n",
    "\n",
    "print(result9)\n",
    "\n",
    "print(result10)"
   ]
  },
  {
   "cell_type": "code",
   "execution_count": 2,
   "id": "8f364748",
   "metadata": {},
   "outputs": [
    {
     "name": "stdout",
     "output_type": "stream",
     "text": [
      "5\n",
      "9\n",
      "15\n",
      "25\n",
      "43\n",
      "77\n",
      "143\n",
      "273\n",
      "531\n"
     ]
    }
   ],
   "source": [
    "# Task 16 :\n",
    "\n",
    "myList = [0, 0, 0, 0, 0, 0, 0, 0, 0, 0]\n",
    "\n",
    "index1 = 0\n",
    "\n",
    "index2 = 0\n",
    "\n",
    "index1 = 1\n",
    "\n",
    "while(index1 < 10):\n",
    "\n",
    "    myList[index1] = index1 + 4\n",
    "\n",
    "    index2 = 1\n",
    "\n",
    "    while(index2 < index1):\n",
    "\n",
    "        myList[index1] = myList[index1] + myList[index2] - index1\n",
    "\n",
    "        index2 = index2 + 1\n",
    "\n",
    "    print(myList[index1])\n",
    "\n",
    "    index1 = index1 + 1"
   ]
  },
  {
   "cell_type": "code",
   "execution_count": 4,
   "id": "033369dc",
   "metadata": {},
   "outputs": [
    {
     "name": "stdout",
     "output_type": "stream",
     "text": [
      "5\n",
      "3\n",
      "-5\n",
      "-12\n",
      "-12\n",
      "-6\n",
      "-1\n",
      "-3\n",
      "-11\n"
     ]
    }
   ],
   "source": [
    "# Task 17 :\n",
    "\n",
    "myList = [0, 0, 0, 0, 0, 0, 0, 0, 0, 0]\n",
    "\n",
    "index1 = 0\n",
    "\n",
    "index2 = 0\n",
    "\n",
    "index1 = 1\n",
    "\n",
    "while(index1 < 10):\n",
    "\n",
    "    myList[index1] = index1 + 4\n",
    "\n",
    "    index2 = 1\n",
    "    \n",
    "    while(index2 < index1):\n",
    "\n",
    "        myList[index1] = myList[index1-1] - myList[index2-1] - index1\n",
    "\n",
    "        index2 = index2 + 1\n",
    "\n",
    "    print(myList[index1])\n",
    "\n",
    "    index1 = index1 + 1"
   ]
  },
  {
   "cell_type": "code",
   "execution_count": 87,
   "id": "52e44095",
   "metadata": {},
   "outputs": [
    {
     "name": "stdout",
     "output_type": "stream",
     "text": [
      "3\n",
      "5\n",
      "7\n",
      "9\n",
      "11\n",
      "13\n",
      "15\n",
      "17\n",
      "19\n"
     ]
    }
   ],
   "source": [
    "# Task 18 :\n",
    "\n",
    "myList = [0, 0, 0, 0, 0, 0, 0, 0, 0, 0]\n",
    "\n",
    "b = []\n",
    "\n",
    "index1 = 0\n",
    "\n",
    "index2 = 0\n",
    "\n",
    "index1 = 1\n",
    "\n",
    "b = myList\n",
    "\n",
    "while(index1<10):\n",
    "\n",
    "    myList[index1] = index1+2\n",
    "    \n",
    "    index2 = 1\n",
    "    \n",
    "    while(index2<index1):\n",
    "        \n",
    "        myList[index1] = b[index1]+myList[index2]-index1\n",
    "        \n",
    "        index2 = index2+1\n",
    "        \n",
    "    print(myList[index1])\n",
    "        \n",
    "    index1 = index1+1"
   ]
  },
  {
   "cell_type": "code",
   "execution_count": 6,
   "id": "d31643e1",
   "metadata": {},
   "outputs": [
    {
     "name": "stdout",
     "output_type": "stream",
     "text": [
      "2\n",
      "0\n",
      "-1\n",
      "-5\n",
      "-11\n",
      "-22\n",
      "-40\n",
      "-70\n",
      "-119\n"
     ]
    }
   ],
   "source": [
    "# Task 19 :\n",
    "\n",
    "myList = [0, 0, 0, 0, 0, 0, 0, 0, 0, 0]\n",
    "\n",
    "b = []\n",
    "\n",
    "index1 = 0\n",
    "\n",
    "index2 = 0\n",
    "\n",
    "index1 = 1\n",
    "\n",
    "b = myList\n",
    "\n",
    "while (index1 < 10):\n",
    "\n",
    "    myList[index1] = index1 + 1\n",
    "\n",
    "    index2 = 1\n",
    "\n",
    "    while (index2 < index1):\n",
    "\n",
    "        myList[index1] = b[index2-1] + myList[index2] - index1\n",
    "\n",
    "        index2 = index2 + 1\n",
    "\n",
    "    print(myList[index1])\n",
    "\n",
    "    index1 = index1 + 1"
   ]
  },
  {
   "cell_type": "code",
   "execution_count": 8,
   "id": "881c80a6",
   "metadata": {},
   "outputs": [
    {
     "name": "stdout",
     "output_type": "stream",
     "text": [
      "[242, 1815, 4235, 484]\n"
     ]
    }
   ],
   "source": [
    "# Task 20 :\n",
    "\n",
    "given_list = [(11, 22), (33, 55), (55, 77), (11, 44)]\n",
    "\n",
    "ans_list = []\n",
    "\n",
    "for item in given_list:\n",
    "    \n",
    "    num1, num2 = item\n",
    "    \n",
    "    ans = num1 * num2\n",
    "    \n",
    "    ans_list.append(ans)\n",
    "    \n",
    "print(ans_list)"
   ]
  },
  {
   "cell_type": "code",
   "execution_count": 10,
   "id": "bbd3b2e9",
   "metadata": {},
   "outputs": [
    {
     "name": "stdout",
     "output_type": "stream",
     "text": [
      "Please enter an input: 1000\n",
      "([1, 2, '1000'], [4, 5, '1000'], [7, 8, '1000'], [10, 11, '1000'])\n"
     ]
    }
   ],
   "source": [
    "#Task 21 :\n",
    "\n",
    "a_tuple = ( [1, 2, 3], [4, 5, 6], [7, 8, 9], [10, 11, 12])\n",
    "\n",
    "user_input = input(\"Please enter an input: \")\n",
    "\n",
    "for item in a_tuple:\n",
    "    \n",
    "    item[2] = user_input\n",
    "    \n",
    "print(a_tuple)"
   ]
  },
  {
   "cell_type": "code",
   "execution_count": 23,
   "id": "9ca53121",
   "metadata": {},
   "outputs": [
    {
     "name": "stdout",
     "output_type": "stream",
     "text": [
      "{'c1': 'Red', 'c2': 'Green', 'd4': 'Blue'}\n"
     ]
    }
   ],
   "source": [
    "# Task 22 :\n",
    "\n",
    "my_dictionary = {'c1':'Red', 'c2':'Green', 'c3':None, 'd4':'Blue', 'a5':None}\n",
    "\n",
    "new_dic = {}\n",
    "\n",
    "for key,value in my_dictionary.items():\n",
    "    \n",
    "    if (value != None):\n",
    "        \n",
    "        new_dic[key] = value\n",
    "        \n",
    "print(new_dic)"
   ]
  },
  {
   "cell_type": "code",
   "execution_count": 31,
   "id": "fe020ec0",
   "metadata": {},
   "outputs": [
    {
     "name": "stdout",
     "output_type": "stream",
     "text": [
      "Please enter the range: 14,18\n",
      "{}\n"
     ]
    }
   ],
   "source": [
    "# Task 23 :\n",
    "\n",
    "dict_1 = {'a' : 6, 'b' : 7, 'c' : 9, 'd' : 8, 'e' : 11, 'f' : 12, 'g' : 13}\n",
    "\n",
    "new_dic = {}\n",
    "\n",
    "num1, num2 = input(\"Please enter the range: \").split(\",\")\n",
    "\n",
    "for key,value in dict_1.items():\n",
    "    \n",
    "    if (value >= int(num1) and value < int(num2)):\n",
    "        \n",
    "        new_dic[key] = value\n",
    "        \n",
    "print(new_dic)"
   ]
  },
  {
   "cell_type": "code",
   "execution_count": 33,
   "id": "07572458",
   "metadata": {},
   "outputs": [
    {
     "name": "stdout",
     "output_type": "stream",
     "text": [
      "{80: [(20, 80), (31, 80)], 22: [(1, 22)], 11: [(88, 11), (27, 11)]}\n"
     ]
    }
   ],
   "source": [
    "# Task 24 :\n",
    "\n",
    "given_list = [(20, 80), (31, 80), (1, 22), (88, 11), (27, 11)]\n",
    "\n",
    "new_dic = {}\n",
    "\n",
    "for item in given_list:\n",
    "    \n",
    "    if item[1] not in new_dic:\n",
    "        \n",
    "        new_dic[item[1]] = [item]\n",
    "        \n",
    "    else:\n",
    "        \n",
    "        new_dic[item[1]].append(item)\n",
    "        \n",
    "print(new_dic)"
   ]
  },
  {
   "cell_type": "code",
   "execution_count": 75,
   "id": "793821f8",
   "metadata": {},
   "outputs": [
    {
     "name": "stdout",
     "output_type": "stream",
     "text": [
      "Words in given string: ['I', 'love', 'Programming', 'Python', 'is', 'love']\n",
      "Answer: {'$': ['I'], '&': ['love', 'Python'], '#': ['Programming'], '@': ['is']}\n"
     ]
    }
   ],
   "source": [
    "# Task 25 :\n",
    "\n",
    "input_1 = 'I love Programming.Python is love'\n",
    "\n",
    "input_2 = ['@', '$', '&', '#']\n",
    "\n",
    "sent = input_1.split(\".\")\n",
    "\n",
    "total_words = []\n",
    "\n",
    "for item in sent:\n",
    "    \n",
    "    words = item.split(\" \")\n",
    "    \n",
    "    total_words.extend(words)\n",
    "    \n",
    "print(\"Words in given string:\", total_words)\n",
    "\n",
    "ans_dic = {}\n",
    "\n",
    "for word in total_words:\n",
    "    \n",
    "    asci_sum = 0\n",
    "    \n",
    "    for char in word:\n",
    "        \n",
    "        asci_sum += ord(char)\n",
    "        \n",
    "    index = (asci_sum % len(input_2))\n",
    "        \n",
    "    key = input_2[index]\n",
    "        \n",
    "    if key not in ans_dic:\n",
    "            \n",
    "        ans_dic[key] = []\n",
    "            \n",
    "        ans_dic[key].append(word)\n",
    "            \n",
    "    else:\n",
    "            \n",
    "        if word not in ans_dic[key]:\n",
    "            \n",
    "            ans_dic[key].append(word)\n",
    "                \n",
    "print(\"Answer:\", ans_dic)"
   ]
  }
 ],
 "metadata": {
  "colab": {
   "name": "Assignment 5.ipynb",
   "provenance": []
  },
  "kernelspec": {
   "display_name": "Python 3 (ipykernel)",
   "language": "python",
   "name": "python3"
  },
  "language_info": {
   "codemirror_mode": {
    "name": "ipython",
    "version": 3
   },
   "file_extension": ".py",
   "mimetype": "text/x-python",
   "name": "python",
   "nbconvert_exporter": "python",
   "pygments_lexer": "ipython3",
   "version": "3.9.7"
  }
 },
 "nbformat": 4,
 "nbformat_minor": 5
}
