{
 "cells": [
  {
   "cell_type": "code",
   "execution_count": 1,
   "id": "0ecd8daf",
   "metadata": {},
   "outputs": [
    {
     "name": "stdout",
     "output_type": "stream",
     "text": [
      "Odd!\n"
     ]
    }
   ],
   "source": [
    "# Task 1:\n",
    "\n",
    "def even_checker(num):\n",
    "    \n",
    "    if (num % 2 == 0):\n",
    "        print(\"Even!\")\n",
    "    \n",
    "    else:\n",
    "        print(\"Odd!\")\n",
    "\n",
    "even_checker(5)"
   ]
  },
  {
   "cell_type": "code",
   "execution_count": 3,
   "id": "ede47a9b",
   "metadata": {},
   "outputs": [
    {
     "name": "stdout",
     "output_type": "stream",
     "text": [
      "0 1 1 2 3 5 "
     ]
    }
   ],
   "source": [
    "# Task 2:\n",
    "\n",
    "def fibonacci(limit):\n",
    "    \n",
    "    num1 = 0\n",
    "    \n",
    "    num2 = 1\n",
    "    \n",
    "    for value in range(limit+1):\n",
    "        \n",
    "        if num1 <= limit :\n",
    "            \n",
    "            print(num1, end = \" \")\n",
    "            \n",
    "            sum = num1 + num2\n",
    "            \n",
    "            num1 = num2\n",
    "            \n",
    "            num2 = sum\n",
    "        \n",
    "fibonacci(5)"
   ]
  },
  {
   "cell_type": "code",
   "execution_count": 5,
   "id": "67e3086c",
   "metadata": {},
   "outputs": [
    {
     "name": "stdout",
     "output_type": "stream",
     "text": [
      "Boo\n"
     ]
    }
   ],
   "source": [
    "# Task 3:\n",
    "\n",
    "def foo_moo(num):\n",
    "\n",
    "  if (num % 2 == 0 and num % 3 == 0):\n",
    "    return \"FooMoo\"\n",
    "\n",
    "  elif (num % 2 == 0):\n",
    "    return \"Foo\"\n",
    "\n",
    "  elif (num % 3 == 0):\n",
    "    return \"Moo\"\n",
    "\n",
    "  else:\n",
    "    return \"Boo\"\n",
    "\n",
    "print(foo_moo(5))"
   ]
  },
  {
   "cell_type": "code",
   "execution_count": 13,
   "id": "ea3a32fc",
   "metadata": {},
   "outputs": [
    {
     "name": "stdout",
     "output_type": "stream",
     "text": [
      "No. of Uppercase characters : 3\n",
      "No. of Lowercase characters : 12\n"
     ]
    }
   ],
   "source": [
    "# Task 4:\n",
    "\n",
    "def case_counter(string):\n",
    "    \n",
    "    upp_count = 0\n",
    "    \n",
    "    low_count = 0\n",
    "    \n",
    "    for char in string:\n",
    "        \n",
    "        if (char >= \"A\" and char <= \"Z\"):\n",
    "            \n",
    "            upp_count += 1\n",
    "            \n",
    "        elif (char >= \"a\" and char <= \"z\"):\n",
    "            \n",
    "            low_count += 1\n",
    "            \n",
    "    print(\"No. of Uppercase characters :\", upp_count)\n",
    "    \n",
    "    print(\"No. of Lowercase characters :\", low_count) \n",
    "    \n",
    "case_counter('The quick Sand Man')  "
   ]
  },
  {
   "cell_type": "code",
   "execution_count": 2,
   "id": "9f3a446b",
   "metadata": {},
   "outputs": [
    {
     "name": "stdout",
     "output_type": "stream",
     "text": [
      "Please enter your age: 232\n",
      "Please enter your salary: 2313312313\n",
      "Please enter your job designation: prESident\n",
      "0\n"
     ]
    }
   ],
   "source": [
    "# Task 5:\n",
    "\n",
    "def calculate_tex(age, salary, designation):\n",
    "    \n",
    "    if (age < 18 or designation.lower() == \"president\" or salary < 10000):\n",
    "        \n",
    "        tax = 0\n",
    "        \n",
    "    elif (10000 <= salary <= 20000):\n",
    "        \n",
    "        tax = ((5 * salary) / 100)\n",
    "    \n",
    "    elif (salary >= 20000):\n",
    "        \n",
    "        tax = ((10 * salary) / 100)\n",
    "        \n",
    "    return tax\n",
    "\n",
    "user_age = int(input(\"Please enter your age: \"))\n",
    "\n",
    "user_salary = int(input(\"Please enter your salary: \"))\n",
    "\n",
    "user_designation = input(\"Please enter your job designation: \")\n",
    "\n",
    "print(calculate_tex(user_age, user_salary, user_designation))"
   ]
  },
  {
   "cell_type": "code",
   "execution_count": 3,
   "id": "4dd1f145",
   "metadata": {},
   "outputs": [
    {
     "name": "stdout",
     "output_type": "stream",
     "text": [
      "Please enter the number of total days: 2250\n",
      "6 years, 2 months and 0 days\n"
     ]
    }
   ],
   "source": [
    "# Task 6:\n",
    "\n",
    "def time_counter(total_days):\n",
    "    \n",
    "    year = total_days // 365\n",
    "    \n",
    "    rem_days = total_days % 365\n",
    "    \n",
    "    month = rem_days // 30\n",
    "    \n",
    "    day = rem_days % 30\n",
    "    \n",
    "    print(year, \"years,\", month, \"months and\", day, \"days\")\n",
    "    \n",
    "num_of_days = int(input(\"Please enter the number of total days: \"))\n",
    "\n",
    "time_counter(num_of_days)"
   ]
  },
  {
   "cell_type": "code",
   "execution_count": 50,
   "id": "a097e68d",
   "metadata": {},
   "outputs": [
    {
     "name": "stdout",
     "output_type": "stream",
     "text": [
      "12321\n"
     ]
    }
   ],
   "source": [
    "# Task 7:\n",
    "\n",
    "def show_palindrome(number):\n",
    "    \n",
    "    ans = \"\"\n",
    "    \n",
    "    for num in range(1, number+1):\n",
    "        \n",
    "        ans = ans + str(num)\n",
    "    \n",
    "    for num in range(number-1, 0, -1):\n",
    "        \n",
    "        ans = ans + str(num)\n",
    "        \n",
    "    return ans\n",
    "\n",
    "print(show_palindrome(3))"
   ]
  },
  {
   "cell_type": "code",
   "execution_count": 56,
   "id": "f0731249",
   "metadata": {},
   "outputs": [
    {
     "name": "stdout",
     "output_type": "stream",
     "text": [
      "    1\n",
      "   121\n",
      "  12321\n",
      " 1234321\n",
      "123454321\n"
     ]
    }
   ],
   "source": [
    "# Task 8:\n",
    "\n",
    "def show_palindromic_triangle(num):\n",
    "    \n",
    "    space_limit = num - 1\n",
    "    \n",
    "    for line in range(1, num+1):\n",
    "        \n",
    "        for space in range(1, space_limit+1):\n",
    "            \n",
    "            print(\" \", end =\"\")\n",
    "            \n",
    "        print(show_palindrome(line))\n",
    "        \n",
    "        space_limit = space_limit - 1     \n",
    "\n",
    "        \n",
    "show_palindromic_triangle(5)"
   ]
  },
  {
   "cell_type": "code",
   "execution_count": 1,
   "id": "0dd081ec",
   "metadata": {
    "scrolled": false
   },
   "outputs": [
    {
     "name": "stdout",
     "output_type": "stream",
     "text": [
      "(19.634954084936208, 15.707963267948966)\n",
      "Area of the circle is 19.634954084936208 and circumference is 15.707963267948966\n"
     ]
    }
   ],
   "source": [
    "# Task 9:\n",
    "\n",
    "import math\n",
    "\n",
    "def area_circumference_generator(radius):\n",
    "    \n",
    "    circumfer = 2 * math.pi * radius\n",
    "    \n",
    "    area = math.pi * radius ** 2\n",
    "    \n",
    "    a_tuple = area, circumfer\n",
    "    \n",
    "    return a_tuple\n",
    "    \n",
    "print(area_circumference_generator(2.5))\n",
    "\n",
    "area, circumfer = area_circumference_generator(2.5)\n",
    "\n",
    "print(\"Area of the circle is\", area, \"and circumference is\", circumfer)"
   ]
  },
  {
   "cell_type": "code",
   "execution_count": 11,
   "id": "90bdf963",
   "metadata": {},
   "outputs": [
    {
     "name": "stdout",
     "output_type": "stream",
     "text": [
      "{5: 25, 6: 36, 7: 49, 8: 64, 9: 81}\n"
     ]
    }
   ],
   "source": [
    "# Task 10:\n",
    "\n",
    "def make_square(a_tuple):\n",
    "    \n",
    "    start, end = a_tuple\n",
    "    \n",
    "    dic = {}\n",
    "    \n",
    "    for num in range(start, end+1):\n",
    "        \n",
    "        square = num ** 2\n",
    "        \n",
    "        dic[num] = square\n",
    "        \n",
    "    return dic\n",
    "    \n",
    "print(make_square((5,9)))"
   ]
  },
  {
   "cell_type": "code",
   "execution_count": 14,
   "id": "ef5b6e1f",
   "metadata": {},
   "outputs": [
    {
     "name": "stdout",
     "output_type": "stream",
     "text": [
      "('Hi', 1, 2, 3, 'a', [1, 2])\n"
     ]
    }
   ],
   "source": [
    "# Task 11:\n",
    "\n",
    "def rem_duplicate(a_tuple):\n",
    "    \n",
    "    a_list = list(a_tuple)\n",
    "    \n",
    "    new_list = []\n",
    "    \n",
    "    for item in a_list:\n",
    "        \n",
    "        if item not in new_list:\n",
    "            \n",
    "            new_list.append(item)\n",
    "            \n",
    "    return tuple(new_list)\n",
    "\n",
    "print(rem_duplicate((\"Hi\", 1, 2, 3, 3, \"Hi\",'a', 'a', [1,2])))"
   ]
  },
  {
   "cell_type": "code",
   "execution_count": 17,
   "id": "6f0d410d",
   "metadata": {},
   "outputs": [
    {
     "name": "stdout",
     "output_type": "stream",
     "text": [
      "Removed: 2\n",
      "[1, 2, 3, 3, 4, 5, 8, 8]\n"
     ]
    }
   ],
   "source": [
    "# Task 12:\n",
    "\n",
    "def recurring_element_remover(a_list):\n",
    "    \n",
    "    new_list = []\n",
    "    \n",
    "    removed = 0\n",
    "    \n",
    "    for element in a_list:\n",
    "        \n",
    "        count = new_list.count(element)\n",
    "        \n",
    "        if (count < 2):\n",
    "            \n",
    "            new_list.append(element)\n",
    "            \n",
    "        else:\n",
    "            \n",
    "            removed += 1\n",
    "            \n",
    "    print(\"Removed:\", removed)\n",
    "        \n",
    "    return new_list\n",
    "    \n",
    "print(recurring_element_remover([1, 2, 3, 3, 3, 3, 4, 5, 8, 8]))"
   ]
  },
  {
   "cell_type": "code",
   "execution_count": 24,
   "id": "b231d6e8",
   "metadata": {},
   "outputs": [
    {
     "name": "stdout",
     "output_type": "stream",
     "text": [
      "Please enter the type of calculation: *\n",
      "Please enter the first number: 5.5\n",
      "Please enter the second number: 2.5\n",
      "13.75\n"
     ]
    }
   ],
   "source": [
    "# Task 13:\n",
    "\n",
    "def operate_calculation(operator, num1, num2):\n",
    "    \n",
    "    result = 0\n",
    "    \n",
    "    if (operator == \"+\"):\n",
    "        \n",
    "        result = num1 + num2\n",
    "        \n",
    "    elif (operator == \"-\"):\n",
    "        \n",
    "        result = num1 - num2\n",
    "        \n",
    "    elif (operator == \"*\"):\n",
    "        \n",
    "        result = num1 * num2\n",
    "        \n",
    "    elif (operator == \"/\"):\n",
    "        \n",
    "        result = num1 / num2\n",
    "        \n",
    "    return result\n",
    "    \n",
    "input_operator = input(\"Please enter the type of calculation: \")\n",
    "\n",
    "input_num1 = float(input(\"Please enter the first number: \"))\n",
    "\n",
    "input_num2 = float(input(\"Please enter the second number: \"))\n",
    "\n",
    "print(operate_calculation(input_operator, input_num1, input_num2))"
   ]
  },
  {
   "cell_type": "code",
   "execution_count": 32,
   "id": "4f62d0eb",
   "metadata": {},
   "outputs": [
    {
     "name": "stdout",
     "output_type": "stream",
     "text": [
      "Please enter a sentence: Python is easy to learn. I love python.\n",
      "Please enter a position: 6\n",
      "Pythonis eay to earn.I lov pythn. sl eo\n"
     ]
    }
   ],
   "source": [
    "# Task 14:\n",
    "\n",
    "def alter_char_position(sent, post):\n",
    "    \n",
    "    new_sent = sent[0]\n",
    "    \n",
    "    rem_char = \"\"\n",
    "    \n",
    "    for index in range(1, len(sent)):\n",
    "        \n",
    "        char = sent[index]\n",
    "        \n",
    "        if (index % post == 0):\n",
    "            \n",
    "            rem_char = rem_char + char\n",
    "            \n",
    "        else:\n",
    "            \n",
    "            new_sent = new_sent + char\n",
    "            \n",
    "    final_sent = new_sent + rem_char\n",
    "    \n",
    "    return final_sent\n",
    "\n",
    "input_sent = input(\"Please enter a sentence: \")\n",
    "\n",
    "input_pos = int(input(\"Please enter a position: \"))\n",
    "\n",
    "print(alter_char_position(input_sent, input_pos))"
   ]
  },
  {
   "cell_type": "code",
   "execution_count": 39,
   "id": "821d7460",
   "metadata": {},
   "outputs": [
    {
     "name": "stdout",
     "output_type": "stream",
     "text": [
      "What do yo want to order? Rice\n",
      "175\n"
     ]
    }
   ],
   "source": [
    "# Task 15:\n",
    "\n",
    "def total_grocery_price(order_items, location = \"dhanmondi\"):\n",
    "    \n",
    "    price_list = {\"Rice\":105, \"Potato\":20, \"Chicken\":250, \"Beef\":510, \"Oil\":85}\n",
    "    \n",
    "    price = 0\n",
    "    \n",
    "    for item in order_items:\n",
    "        \n",
    "        price = price + price_list[item]\n",
    "        \n",
    "    if (location.lower() == \"dhanmondi\"):\n",
    "        \n",
    "        total_price = price + 30\n",
    "        \n",
    "    else:\n",
    "        \n",
    "        total_price = price + 70\n",
    "        \n",
    "    return total_price\n",
    "\n",
    "user_item_list = input(\"What do yo want to order? \").split(\", \")\n",
    "\n",
    "print(total_grocery_price(user_item_list, \"Mohakhali\"))"
   ]
  },
  {
   "cell_type": "code",
   "execution_count": 40,
   "id": "3f937fc3",
   "metadata": {},
   "outputs": [
    {
     "name": "stdout",
     "output_type": "stream",
     "text": [
      "12.0\n",
      "29.0\n",
      "45.0\n",
      "21.0\n",
      "42.0\n",
      "65.0\n",
      "26.0\n",
      "52.0\n",
      "80.0\n",
      "110.0\n"
     ]
    }
   ],
   "source": [
    "# Task 16:\n",
    "\n",
    "x = 0\n",
    "\n",
    "y = 0\n",
    "\n",
    "sum = 0\n",
    "\n",
    "p = 0.0\n",
    "\n",
    "while (x < 9):\n",
    "    \n",
    "    y = x/2\n",
    "    \n",
    "    while (y<x):\n",
    "        \n",
    "        p = (x + 5.0)/ 2\n",
    "        \n",
    "        sum = sum+2 + x + y*2 + int(p)\n",
    "        \n",
    "        print(sum)\n",
    "        \n",
    "        y=y+1\n",
    "        \n",
    "    x = x+2\n",
    "        \n",
    "    if (x>5):\n",
    "            \n",
    "        sum = 2\n",
    "            \n",
    "    else:\n",
    "            \n",
    "        sum += 3"
   ]
  },
  {
   "cell_type": "code",
   "execution_count": 42,
   "id": "d9cbee9d",
   "metadata": {},
   "outputs": [
    {
     "name": "stdout",
     "output_type": "stream",
     "text": [
      "23\n",
      "46\n",
      "52\n",
      "75\n",
      "98\n",
      "121\n",
      "144\n",
      "167\n",
      "190\n",
      "213\n"
     ]
    }
   ],
   "source": [
    "# Task 17:\n",
    "\n",
    "x = 0\n",
    "\n",
    "y = 0\n",
    "\n",
    "sum = 0\n",
    "\n",
    "while (x < 10):\n",
    "\n",
    "    y = x - 3\n",
    "\n",
    "    y = 40\n",
    "\n",
    "    while (y > 22):\n",
    "\n",
    "        if ((sum > 30) and (sum < 40)):\n",
    "\n",
    "            sum = sum + x * 2\n",
    "\n",
    "        elif((sum > 40) and (sum < 50)):\n",
    "            \n",
    "            sum = sum + x * 3\n",
    "            \n",
    "        else:\n",
    "            \n",
    "            sum = sum + 23\n",
    "            \n",
    "        print(sum)\n",
    "\n",
    "        y = y - 10\n",
    "\n",
    "    x += 2"
   ]
  },
  {
   "cell_type": "code",
   "execution_count": 43,
   "id": "737ff7ac",
   "metadata": {},
   "outputs": [
    {
     "name": "stdout",
     "output_type": "stream",
     "text": [
      "6\n",
      "4\n",
      "2\n",
      "0\n",
      "-2\n",
      "-4\n",
      "3\n",
      "1\n",
      "-1\n",
      "-2\n"
     ]
    }
   ],
   "source": [
    "# Task 18:\n",
    "\n",
    "x = y = 0\n",
    "\n",
    "sum = 0\n",
    "\n",
    "while (x < 10):\n",
    "\n",
    "    y = x - 3\n",
    "\n",
    "    while (y < 3):\n",
    "\n",
    "        sum = x - y * 2\n",
    "\n",
    "        print(sum)\n",
    "\n",
    "        y = y + 1\n",
    "        \n",
    "    if (x > 7):\n",
    "            \n",
    "        x += 1\n",
    "\n",
    "    else:\n",
    "            \n",
    "        x += 3\n",
    "        \n",
    "sum = x - y * 2\n",
    "        \n",
    "print(sum)"
   ]
  },
  {
   "cell_type": "code",
   "execution_count": 26,
   "id": "deb87542",
   "metadata": {},
   "outputs": [
    {
     "name": "stdout",
     "output_type": "stream",
     "text": [
      "4\n",
      "9\n",
      "16\n",
      "25\n",
      "39\n",
      "56\n",
      "78\n",
      "104\n",
      "134\n",
      "147\n"
     ]
    }
   ],
   "source": [
    "# Task 19:\n",
    "\n",
    "x = 0\n",
    "\n",
    "p = 0\n",
    "\n",
    "sum = 0\n",
    "\n",
    "p = 1\n",
    "\n",
    "x = 2\n",
    "\n",
    "q = 0.0\n",
    "\n",
    "sum = 0\n",
    "\n",
    "while (p < 12):\n",
    "    \n",
    "    q = x + p - (sum + int(5 / 3)) / 3.0 % 2\n",
    "\n",
    "    sum = sum + x + int(q)\n",
    "\n",
    "    x+=1\n",
    "\n",
    "    print(sum)\n",
    "\n",
    "    if (x > 5):\n",
    "\n",
    "        p += int(4 / 2)\n",
    "\n",
    "    else:\n",
    "\n",
    "        p += 3 % 1\n",
    "\n",
    "sum = sum + p\n",
    "\n",
    "print(sum)"
   ]
  },
  {
   "cell_type": "code",
   "execution_count": 45,
   "id": "531825b6",
   "metadata": {},
   "outputs": [
    {
     "name": "stdout",
     "output_type": "stream",
     "text": [
      "-->dog<--28\n",
      "-->dog<--28-->115\n",
      "-->dog<--28-->115<--27\n",
      "-->dog<--28-->115<--27-->113\n",
      "-->dog<--28-->115<--27-->113-->115\n",
      "-->dog<--28-->115<--27-->113-->115<--37\n",
      "-->dog<--28-->115<--27-->113-->115<--37-->113\n",
      "-->dog<--28-->115<--27-->113-->115<--37-->113<--47\n",
      "-->dog<--28-->115<--27-->113-->115<--37-->113<--47-->213\n",
      "-->dog<--28-->115<--27-->113-->115<--37-->113<--47-->213-->213\n"
     ]
    }
   ],
   "source": [
    "# Task 20:\n",
    "\n",
    "i = 2\n",
    "\n",
    "j = 0\n",
    "\n",
    "k = 17\n",
    "\n",
    "test = \"-->dog\"\n",
    "\n",
    "while i < 7:\n",
    "\n",
    "    k-=1\n",
    "\n",
    "    j = k\n",
    "\n",
    "    while j > 12:\n",
    "\n",
    "        if (j % 2 == 0):\n",
    "\n",
    "            test += \"<--\"\n",
    "\n",
    "            test = test + str(i) + str(j // 2)\n",
    "\n",
    "        else:\n",
    "\n",
    "            test += \"-->\"\n",
    "\n",
    "            test = test + str(i // 2) + str(j)\n",
    "\n",
    "        print(test)\n",
    "\n",
    "        j-=1\n",
    "    \n",
    "    i+=1"
   ]
  },
  {
   "cell_type": "code",
   "execution_count": 46,
   "id": "9b64f544",
   "metadata": {},
   "outputs": [
    {
     "name": "stdout",
     "output_type": "stream",
     "text": [
      "<--53-->4\n",
      "-->1-->13\n",
      "<--53-->4\n",
      "-->1-->11\n",
      "-->2-->13\n",
      "<--63-->4\n",
      "-->2-->11\n",
      "<--73-->4\n",
      "-->2-->11\n",
      "-->2-->11\n"
     ]
    }
   ],
   "source": [
    "# Task 21:\n",
    "\n",
    "test = \"\"\n",
    "\n",
    "i = 5\n",
    "\n",
    "j = 0\n",
    "\n",
    "k = 15\n",
    "\n",
    "while (i< 10):\n",
    "\n",
    "    k-=1\n",
    "    \n",
    "    j = k\n",
    "\n",
    "    while (j > 10 ):\n",
    "\n",
    "        if j % 2 == 0:\n",
    "\n",
    "            test = \"<--\"\n",
    "\n",
    "            test = test + str(i) + '3' + \"-->\" + str(j // 3)\n",
    "\n",
    "        else:\n",
    "\n",
    "            test = \"-->\"\n",
    "\n",
    "            test = \"-->\" + str((i // 3)) + test + str(j)\n",
    "            \n",
    "        print(test)\n",
    "\n",
    "        j -=1\n",
    "\n",
    "    i+=1"
   ]
  },
  {
   "cell_type": "code",
   "execution_count": 47,
   "id": "5f3ee4b7",
   "metadata": {},
   "outputs": [
    {
     "name": "stdout",
     "output_type": "stream",
     "text": [
      "5 == 5\n",
      "2 == 2\n",
      "0 == 0\n",
      "-3 != -2\n",
      "-5 != -5\n",
      "-8 != -7\n",
      "-10 != -10\n"
     ]
    }
   ],
   "source": [
    "# Task 22:\n",
    "\n",
    "i = 10\n",
    "\n",
    "while(i >= -20):\n",
    "\n",
    "    if(i < 0):\n",
    "\n",
    "        test = \" != \"\n",
    "\n",
    "        test = str(i//2) + test + str(int(i/2))\n",
    "        \n",
    "    else:\n",
    "\n",
    "        test = \" == \"\n",
    "\n",
    "        test = str(i//2) + test + str(int(i/2))\n",
    "\n",
    "    print(test)\n",
    "\n",
    "    i -= 5"
   ]
  },
  {
   "cell_type": "code",
   "execution_count": 58,
   "id": "4117ba7e",
   "metadata": {},
   "outputs": [
    {
     "name": "stdout",
     "output_type": "stream",
     "text": [
      "Please enter the total amount of money: 1234\n",
      "500 Taka: 2 note(s)\n",
      "100 Taka: 2 note(s)\n",
      "20 Taka: 1 note(s)\n",
      "10 Taka: 1 note(s)\n",
      "2 Taka: 2 note(s)\n",
      "\n"
     ]
    }
   ],
   "source": [
    "# Task 23:\n",
    "\n",
    "def splitting_money(amount):\n",
    "    \n",
    "    amount_dic = {}\n",
    "    \n",
    "    final_ans = \"\"\n",
    "    \n",
    "    note_500 = amount // 500\n",
    "    \n",
    "    amount_dic[\"500 Taka:\"] = note_500\n",
    "    \n",
    "    rem_amount = amount % 500\n",
    "    \n",
    "    note_100 = rem_amount // 100\n",
    "    \n",
    "    amount_dic[\"100 Taka:\"] = note_100\n",
    "    \n",
    "    rem_amount = rem_amount % 100\n",
    "    \n",
    "    note_50 = rem_amount // 50\n",
    "    \n",
    "    amount_dic[\"50 Taka:\"] = note_50\n",
    "    \n",
    "    rem_amount = rem_amount % 50\n",
    "    \n",
    "    note_20 = rem_amount // 20\n",
    "    \n",
    "    amount_dic[\"20 Taka:\"] = note_20\n",
    "    \n",
    "    rem_amount = rem_amount % 20\n",
    "    \n",
    "    note_10 = rem_amount // 10\n",
    "    \n",
    "    amount_dic[\"10 Taka:\"] = note_10    \n",
    "    \n",
    "    rem_amount = rem_amount % 10\n",
    "    \n",
    "    note_5 = rem_amount // 5\n",
    "    \n",
    "    amount_dic[\"5 Taka:\"] = note_5\n",
    "    \n",
    "    rem_amount = rem_amount % 5\n",
    "    \n",
    "    note_2 = rem_amount // 2\n",
    "    \n",
    "    amount_dic[\"2 Taka:\"] = note_2\n",
    "    \n",
    "    rem_amount = rem_amount % 2\n",
    "    \n",
    "    note_1 = rem_amount\n",
    "    \n",
    "    amount_dic[\"1 Taka:\"] = note_1\n",
    "    \n",
    "    for key,value in amount_dic.items():\n",
    "        \n",
    "        if (value > 0):\n",
    "            \n",
    "            final_ans = final_ans + key + \" \" + str(value) + \" note(s)\\n\"\n",
    "    \n",
    "    return final_ans\n",
    "\n",
    "user_amount = int(input(\"Please enter the total amount of money: \"))\n",
    "\n",
    "print(splitting_money(user_amount))"
   ]
  },
  {
   "cell_type": "code",
   "execution_count": 62,
   "id": "94d83da5",
   "metadata": {},
   "outputs": [
    {
     "name": "stdout",
     "output_type": "stream",
     "text": [
      "[44, 66, 88, 10]\n"
     ]
    }
   ],
   "source": [
    "# Task 24:\n",
    "\n",
    "def remove_odd(a_list):\n",
    "    \n",
    "    new_list = []\n",
    "    \n",
    "    for num in a_list:\n",
    "        \n",
    "        if (num % 2 == 0):\n",
    "            \n",
    "            new_list.append(num)\n",
    "            \n",
    "    return new_list\n",
    "\n",
    "print(remove_odd ([21, 33, 44, 66, 11, 1, 88, 45, 10, 9]))"
   ]
  },
  {
   "cell_type": "code",
   "execution_count": 8,
   "id": "c61b3f1b",
   "metadata": {},
   "outputs": [
    {
     "name": "stdout",
     "output_type": "stream",
     "text": [
      "Please enter the start value: 5\n",
      "Please enter the end value: 100\n",
      "Please enter the first divisor: 3\n",
      "Please enter the second divisor: 4\n",
      "2012\n"
     ]
    }
   ],
   "source": [
    "# Task 25:\n",
    "\n",
    "def divisible_numbers_sum(start, end, first_div, second_div):\n",
    "    \n",
    "    total = 0\n",
    "    \n",
    "    for num in range(start, end):\n",
    "        \n",
    "        if (num % first_div == 0 and num % second_div == 0):\n",
    "            \n",
    "            pass\n",
    "        \n",
    "        elif (num % first_div == 0 or num % second_div == 0):\n",
    "            \n",
    "            total += num\n",
    "            \n",
    "    return total\n",
    "\n",
    "user_start = int(input(\"Please enter the start value: \"))\n",
    "\n",
    "user_end = int(input(\"Please enter the end value: \"))\n",
    "\n",
    "user_first_div =  int(input(\"Please enter the first divisor: \"))\n",
    "\n",
    "user_second_div = int(input(\"Please enter the second divisor: \"))\n",
    "\n",
    "print(divisible_numbers_sum(user_start, user_end, user_first_div, user_second_div))"
   ]
  },
  {
   "cell_type": "code",
   "execution_count": 31,
   "id": "38666820",
   "metadata": {},
   "outputs": [
    {
     "name": "stdout",
     "output_type": "stream",
     "text": [
      "Please enter a sentence: abcdefghi\n",
      "PSG will win the Champions League this season\n",
      "PSG will win the Champions League this season\n",
      "PSG will win the Champions League this season\n",
      "PSG will win the Champions League this season\n",
      "PSG will win the Champions League this season\n",
      "PSG will win the Champions League this season\n"
     ]
    }
   ],
   "source": [
    "# Task 26: \n",
    "\n",
    "def char_present_checker(a_string):\n",
    "    \n",
    "    a_string = a_string.lower()\n",
    "    \n",
    "    for ascii_value in range(ord(\"a\"), ord(\"j\")+1):\n",
    "        \n",
    "        char = chr(ascii_value)\n",
    "        \n",
    "        if char not in a_string:\n",
    "            \n",
    "            return 6\n",
    "        \n",
    "    return 5\n",
    "    \n",
    "user_input = input(\"Please enter a sentence: \")\n",
    "\n",
    "result = char_present_checker(user_input)\n",
    "\n",
    "for iteration in range(result):\n",
    "    \n",
    "    print(\"PSG will win the Champions League this season\")"
   ]
  },
  {
   "cell_type": "code",
   "execution_count": 10,
   "id": "657f1e7c",
   "metadata": {},
   "outputs": [
    {
     "name": "stdout",
     "output_type": "stream",
     "text": [
      "Neymar earned a bonus of 2110000 Taka for 35 goals.\n"
     ]
    }
   ],
   "source": [
    "# Task 27:\n",
    "\n",
    "def individul_bonus_calculation(player_name, yearly_salary, total_goal, bonus_percent):\n",
    "    \n",
    "    extra_bonus = 0\n",
    "    \n",
    "    if (total_goal > 30):\n",
    "        \n",
    "        extra_bonus = 10000\n",
    "        \n",
    "    elif (20 <= total_goal <= 30):\n",
    "        \n",
    "        extra_bonus = 5000\n",
    "        \n",
    "    total_bonus = int(total_goal * (bonus_percent / 100 * yearly_salary) + extra_bonus)\n",
    "    \n",
    "    print(player_name, \"earned a bonus of\", total_bonus, \"Taka for\", total_goal, \"goals.\")\n",
    "    \n",
    "individul_bonus_calculation(\"Neymar\", 1200000, 35, 5)"
   ]
  },
  {
   "cell_type": "code",
   "execution_count": 9,
   "id": "f38183a5",
   "metadata": {},
   "outputs": [
    {
     "name": "stdout",
     "output_type": "stream",
     "text": [
      "Neymar earned a bonus of 2110000 Taka for 35 goals.\n",
      "Jamal earned a bonus of 1064000 Taka for 19 goals.\n",
      "Luis earned a bonus of 205000 Taka for 25 goals.\n"
     ]
    }
   ],
   "source": [
    "# Task 28:\n",
    "\n",
    "def cal_total_bonus(*args):\n",
    "    \n",
    "    for index in range(0, len(args), 4):\n",
    "        \n",
    "        name = args[index]\n",
    "        \n",
    "        salary = args[index + 1]\n",
    "        \n",
    "        total_goal = args[index + 2]\n",
    "        \n",
    "        bonus_per = args [index + 3]\n",
    "        \n",
    "        individul_bonus_calculation(name, salary, total_goal, bonus_per)\n",
    "        \n",
    "cal_total_bonus(\"Neymar\", 1200000, 35, 5, 'Jamal', 700000, 19, 8, 'Luis', 80000, 25, 10)"
   ]
  }
 ],
 "metadata": {
  "kernelspec": {
   "display_name": "Python 3 (ipykernel)",
   "language": "python",
   "name": "python3"
  },
  "language_info": {
   "codemirror_mode": {
    "name": "ipython",
    "version": 3
   },
   "file_extension": ".py",
   "mimetype": "text/x-python",
   "name": "python",
   "nbconvert_exporter": "python",
   "pygments_lexer": "ipython3",
   "version": "3.9.7"
  }
 },
 "nbformat": 4,
 "nbformat_minor": 5
}
